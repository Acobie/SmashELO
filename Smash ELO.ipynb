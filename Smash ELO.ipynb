{
 "cells": [
  {
   "cell_type": "markdown",
   "metadata": {},
   "source": [
    "# Smash ELO: Settling the Debate on who is the BEST at Super Smash Bros. Melee\n",
    "\n",
    "Super Smash Bros. Melee is a fun party game published by Nintendo for the GameCube in 2001. But for my friend group, it is far from just a simple party game. It gets competitive and every game you play includes a wager of your own pride. There has always been a discussion on who we think is the best out of entire friend group, and I decided to use my programming skills to objectively determine this answer. \n",
    "\n",
    "I was inspired by the ranking system of chess, which uses Elo, to determine the relative skill of players and decided to apply it to the rankings of our friend group so that the number of games played isn't a huge factor in determining skill. The Elo system accounts for this variability well and is pretty simple to understand without needing too much background knowledge on the specifics. "
   ]
  },
  {
   "cell_type": "markdown",
   "metadata": {},
   "source": [
    "## Data Collection and Import\n",
    "\n",
    "I used Google Sheets to record the data of the matches played amongst our friend group. Google Sheets is very accessible due to its collaborative nature and allowed all of us to update the list anywhere and anytime."
   ]
  },
  {
   "cell_type": "code",
   "execution_count": 1,
   "metadata": {},
   "outputs": [],
   "source": [
    "#Importing the modules needed for this project\n",
    "import gspread\n",
    "from df2gspread import df2gspread as d2g\n",
    "from oauth2client.service_account import ServiceAccountCredentials\n",
    "import pandas as pd\n",
    "import numpy as np\n",
    "import math"
   ]
  },
  {
   "cell_type": "code",
   "execution_count": 2,
   "metadata": {},
   "outputs": [],
   "source": [
    "#The scope always looks like this so we did not need to change anything\n",
    "scope = [\n",
    "   'https://spreadsheets.google.com/feeds',\n",
    "         'https://www.googleapis.com/auth/drive']\n",
    "\n",
    "#Name of our Service Account Key to establish credentials\n",
    "google_key_file = 'service_key.json'\n",
    "credentials = ServiceAccountCredentials.from_json_keyfile_name(google_key_file, scope)\n",
    "gc = gspread.authorize(credentials)"
   ]
  },
  {
   "cell_type": "code",
   "execution_count": 3,
   "metadata": {},
   "outputs": [
    {
     "name": "stdout",
     "output_type": "stream",
     "text": [
      "<class 'pandas.core.frame.DataFrame'>\n",
      "RangeIndex: 79 entries, 0 to 78\n",
      "Data columns (total 7 columns):\n",
      " #   Column       Non-Null Count  Dtype \n",
      "---  ------       --------------  ----- \n",
      " 0   Player1      79 non-null     object\n",
      " 1   Player2      79 non-null     object\n",
      " 2   Winner       79 non-null     object\n",
      " 3   Score        79 non-null     int32 \n",
      " 4   Date         79 non-null     object\n",
      " 5   P1Character  79 non-null     object\n",
      " 6   P2Character  79 non-null     object\n",
      "dtypes: int32(1), object(6)\n",
      "memory usage: 4.1+ KB\n"
     ]
    }
   ],
   "source": [
    "#This is the Worksheet ID\n",
    "spreadsheet_key = ''\n",
    "#This is the sheet name\n",
    "wks_name = 'Games'\n",
    "\n",
    "#We upload the tips data to our Google Sheet. Setting the row_names to False if you did not want the index to be included\n",
    "#d2g.upload(tips, spreadsheet_key, wks_name, credentials=credentials, row_names=False)\n",
    "\n",
    "#Opening the worksheet by using Worksheet ID\n",
    "workbook = gc.open_by_key(spreadsheet_key)\n",
    "\n",
    "#Selecting which sheet to pulling the data\n",
    "sheet = workbook.worksheet('Games')\n",
    "\n",
    "#Pulling the data and transform it into a dataframe\n",
    "values = sheet.get_all_values()\n",
    "games = pd.DataFrame(values[1:], columns = values[0])\n",
    "games['Score'] = games['Score'].astype(int)\n",
    "\n",
    "# Check the types of all variables\n",
    "games.info()"
   ]
  },
  {
   "cell_type": "markdown",
   "metadata": {},
   "source": [
    "## Elo Rating System Implementation\n",
    "\n",
    "Let me preface this section by saying I definitely did not come up with the math for this myself. As the name suggests, Arpad Elo did all the hard work already. You can learn more about it [here](https://en.wikipedia.org/wiki/Elo_rating_system#Performance_rating)!"
   ]
  },
  {
   "cell_type": "code",
   "execution_count": 4,
   "metadata": {},
   "outputs": [],
   "source": [
    "# Function to calculate the Probability of player 2 beating player 1\n",
    "def Probability(rating1, rating2):\n",
    " \n",
    "    return 1.0 * 1.0 / (1 + 1.0 * math.pow(10, 1.0 * (rating1 - rating2) / 400))"
   ]
  },
  {
   "cell_type": "code",
   "execution_count": 5,
   "metadata": {},
   "outputs": [],
   "source": [
    "def EloRating(Ra, Rb, K, d):\n",
    " \n",
    "    # To calculate the Winning\n",
    "    # Probability of Player B\n",
    "    Pb = Probability(Ra, Rb)\n",
    " \n",
    "    # To calculate the Winning\n",
    "    # Probability of Player A\n",
    "    Pa = Probability(Rb, Ra)\n",
    " \n",
    "    # Case -1 When Player A wins\n",
    "    # Updating the Elo Ratings\n",
    "    if (d == \"TRUE\") :\n",
    "        Ra = Ra + K * (1 - Pa)\n",
    "        Rb = Rb + K * (0 - Pb)\n",
    "     \n",
    "    # Case -2 When Player B wins\n",
    "    # Updating the Elo Ratings\n",
    "    else :\n",
    "        Ra = Ra + K * (0 - Pa)\n",
    "        Rb = Rb + K * (1 - Pb)\n",
    "     \n",
    "    return([Ra,Rb])"
   ]
  },
  {
   "cell_type": "markdown",
   "metadata": {},
   "source": [
    "Here's my little \"improvement\" on the traditional Elo system. I decided to factor in the score in which an opponent beats another as a sort of multiplier on how much Elo they should gain. If you win with 3 stocks, or points, over your opponent, you should deserve more Elo compared to a close game down to the last stock on both opponents."
   ]
  },
  {
   "cell_type": "code",
   "execution_count": 6,
   "metadata": {},
   "outputs": [],
   "source": [
    "def KMultiplier(winner, loser, pts):\n",
    "    k = np.log(abs(pts)+1) * (2.2/((winner-loser)*.001+2.2))\n",
    "    \n",
    "    return k"
   ]
  },
  {
   "cell_type": "markdown",
   "metadata": {},
   "source": [
    "## Calculating Players' Elo\n",
    "\n",
    "Now that we collected the data from the Google Sheets with the match history and implemented the math behind the Elo system, it is time to apply it all together and calculate their rankings."
   ]
  },
  {
   "cell_type": "code",
   "execution_count": 7,
   "metadata": {},
   "outputs": [],
   "source": [
    "# Initialize all Elo scores at 1000\n",
    "elo = { 'Jeremy': 1000, 'Ronald' : 1000, 'Jeremie' : 1000, 'Karlo' : 1000 }\n",
    "elo_history = pd.DataFrame()\n",
    "\n",
    "for i in range(0, len(games)):\n",
    "    p1 = games.iloc[i]['Player1']\n",
    "    p2 = games.iloc[i]['Player2']\n",
    "    winner = games.iloc[i]['Winner']\n",
    "    score = games.iloc[i]['Score']\n",
    "    elo1 = elo[p1]\n",
    "    elo2 = elo[p2]\n",
    "    \n",
    "    if p1 == winner:\n",
    "        k = KMultiplier(elo1, elo2, score)\n",
    "        # print(k)\n",
    "        newElo = EloRating(elo1, elo2, k*20, 'TRUE')\n",
    "    \n",
    "    else:\n",
    "        k = KMultiplier(elo2, elo1, score)\n",
    "        # print(k)\n",
    "        newElo = EloRating(elo1, elo2, k*20, 'FALSE')\n",
    "        \n",
    "    elo[p1] = newElo[0]\n",
    "    elo[p2] = newElo[1]\n",
    "    \n",
    "    new_row = pd.DataFrame([elo], columns=elo.keys())\n",
    "    elo_history = elo_history.append(new_row, ignore_index=True)"
   ]
  },
  {
   "cell_type": "code",
   "execution_count": 8,
   "metadata": {},
   "outputs": [
    {
     "data": {
      "text/plain": [
       "{'Jeremy': 944.6289753986599,\n",
       " 'Ronald': 1015.796146346722,\n",
       " 'Jeremie': 971.0443883596558,\n",
       " 'Karlo': 1068.5304898949619}"
      ]
     },
     "execution_count": 8,
     "metadata": {},
     "output_type": "execute_result"
    }
   ],
   "source": [
    "# Print out the final values of their Elo after 79 games of Smash\n",
    "elo"
   ]
  },
  {
   "cell_type": "code",
   "execution_count": 9,
   "metadata": {},
   "outputs": [
    {
     "data": {
      "text/html": [
       "<div>\n",
       "<style scoped>\n",
       "    .dataframe tbody tr th:only-of-type {\n",
       "        vertical-align: middle;\n",
       "    }\n",
       "\n",
       "    .dataframe tbody tr th {\n",
       "        vertical-align: top;\n",
       "    }\n",
       "\n",
       "    .dataframe thead th {\n",
       "        text-align: right;\n",
       "    }\n",
       "</style>\n",
       "<table border=\"1\" class=\"dataframe\">\n",
       "  <thead>\n",
       "    <tr style=\"text-align: right;\">\n",
       "      <th></th>\n",
       "      <th>Jeremy</th>\n",
       "      <th>Ronald</th>\n",
       "      <th>Jeremie</th>\n",
       "      <th>Karlo</th>\n",
       "    </tr>\n",
       "  </thead>\n",
       "  <tbody>\n",
       "    <tr>\n",
       "      <th>0</th>\n",
       "      <td>989.013877</td>\n",
       "      <td>1010.986123</td>\n",
       "      <td>1000.000000</td>\n",
       "      <td>1000.000000</td>\n",
       "    </tr>\n",
       "    <tr>\n",
       "      <th>1</th>\n",
       "      <td>982.584390</td>\n",
       "      <td>1017.415610</td>\n",
       "      <td>1000.000000</td>\n",
       "      <td>1000.000000</td>\n",
       "    </tr>\n",
       "    <tr>\n",
       "      <th>2</th>\n",
       "      <td>982.584390</td>\n",
       "      <td>1017.415610</td>\n",
       "      <td>993.068528</td>\n",
       "      <td>1006.931472</td>\n",
       "    </tr>\n",
       "    <tr>\n",
       "      <th>3</th>\n",
       "      <td>972.850093</td>\n",
       "      <td>1027.149907</td>\n",
       "      <td>993.068528</td>\n",
       "      <td>1006.931472</td>\n",
       "    </tr>\n",
       "    <tr>\n",
       "      <th>4</th>\n",
       "      <td>972.850093</td>\n",
       "      <td>1027.149907</td>\n",
       "      <td>979.841779</td>\n",
       "      <td>1020.158221</td>\n",
       "    </tr>\n",
       "    <tr>\n",
       "      <th>...</th>\n",
       "      <td>...</td>\n",
       "      <td>...</td>\n",
       "      <td>...</td>\n",
       "      <td>...</td>\n",
       "    </tr>\n",
       "    <tr>\n",
       "      <th>74</th>\n",
       "      <td>944.628975</td>\n",
       "      <td>1032.886532</td>\n",
       "      <td>971.044388</td>\n",
       "      <td>1051.440104</td>\n",
       "    </tr>\n",
       "    <tr>\n",
       "      <th>75</th>\n",
       "      <td>944.628975</td>\n",
       "      <td>1022.573502</td>\n",
       "      <td>971.044388</td>\n",
       "      <td>1061.753135</td>\n",
       "    </tr>\n",
       "    <tr>\n",
       "      <th>76</th>\n",
       "      <td>944.628975</td>\n",
       "      <td>1035.014850</td>\n",
       "      <td>971.044388</td>\n",
       "      <td>1049.311786</td>\n",
       "    </tr>\n",
       "    <tr>\n",
       "      <th>77</th>\n",
       "      <td>944.628975</td>\n",
       "      <td>1021.807871</td>\n",
       "      <td>971.044388</td>\n",
       "      <td>1062.518766</td>\n",
       "    </tr>\n",
       "    <tr>\n",
       "      <th>78</th>\n",
       "      <td>944.628975</td>\n",
       "      <td>1015.796146</td>\n",
       "      <td>971.044388</td>\n",
       "      <td>1068.530490</td>\n",
       "    </tr>\n",
       "  </tbody>\n",
       "</table>\n",
       "<p>79 rows × 4 columns</p>\n",
       "</div>"
      ],
      "text/plain": [
       "        Jeremy       Ronald      Jeremie        Karlo\n",
       "0   989.013877  1010.986123  1000.000000  1000.000000\n",
       "1   982.584390  1017.415610  1000.000000  1000.000000\n",
       "2   982.584390  1017.415610   993.068528  1006.931472\n",
       "3   972.850093  1027.149907   993.068528  1006.931472\n",
       "4   972.850093  1027.149907   979.841779  1020.158221\n",
       "..         ...          ...          ...          ...\n",
       "74  944.628975  1032.886532   971.044388  1051.440104\n",
       "75  944.628975  1022.573502   971.044388  1061.753135\n",
       "76  944.628975  1035.014850   971.044388  1049.311786\n",
       "77  944.628975  1021.807871   971.044388  1062.518766\n",
       "78  944.628975  1015.796146   971.044388  1068.530490\n",
       "\n",
       "[79 rows x 4 columns]"
      ]
     },
     "execution_count": 9,
     "metadata": {},
     "output_type": "execute_result"
    }
   ],
   "source": [
    "# This dataframe shows how their Elo changed between each match\n",
    "elo_history"
   ]
  },
  {
   "cell_type": "markdown",
   "metadata": {},
   "source": [
    "## Visualize the Data\n",
    "\n",
    "The hard part is done. Now we need to make it look pretty for everyone to understand it easier."
   ]
  },
  {
   "cell_type": "code",
   "execution_count": 10,
   "metadata": {},
   "outputs": [],
   "source": [
    "import matplotlib.pyplot as plt"
   ]
  },
  {
   "cell_type": "code",
   "execution_count": 11,
   "metadata": {},
   "outputs": [
    {
     "data": {
      "text/plain": [
       "Text(0.5, 0, 'Games Played')"
      ]
     },
     "execution_count": 11,
     "metadata": {},
     "output_type": "execute_result"
    },
    {
     "data": {
      "text/plain": [
       "<Figure size 432x288 with 0 Axes>"
      ]
     },
     "metadata": {},
     "output_type": "display_data"
    },
    {
     "data": {
      "image/png": "[encoded data removed]",
      "text/plain": [
       "<Figure size 432x288 with 1 Axes>"
      ]
     },
     "metadata": {},
     "output_type": "display_data"
    }
   ],
   "source": [
    "plt.style.use('fivethirtyeight')\n",
    "plt.figure()\n",
    "elo_history.plot()\n",
    "plt.legend(loc='best')\n",
    "#plt.xticks(rotation=90)\n",
    "plt.legend(loc='upper center', bbox_to_anchor=(0.5, 1.2),ncol=4, fancybox=True, shadow=True); \n",
    "plt.ylabel('Elo Score')\n",
    "plt.xlabel('Games Played')"
   ]
  },
  {
   "cell_type": "markdown",
   "metadata": {},
   "source": [
    "Karlo is consistently the best when it comes to Super Smash Bros. Melee. Debate settled. Bragging rights secured. But this will only inspire all of us to get better. It feels like we have a working ranked component whenever we face each other now. There are definitely improvements I want to make in this project, such as adding Discord support so that we don't have go into the Google Sheet to update it manually, and instead use simple server commands. Overall, it was a fun little project to make and I can't wait to see where I can apply this to next. "
   ]
  }
 ],
 "metadata": {
  "kernelspec": {
   "display_name": "Python 3",
   "language": "python",
   "name": "python3"
  },
  "language_info": {
   "codemirror_mode": {
    "name": "ipython",
    "version": 3
   },
   "file_extension": ".py",
   "mimetype": "text/x-python",
   "name": "python",
   "nbconvert_exporter": "python",
   "pygments_lexer": "ipython3",
   "version": "3.8.5"
  }
 },
 "nbformat": 4,
 "nbformat_minor": 4
}
